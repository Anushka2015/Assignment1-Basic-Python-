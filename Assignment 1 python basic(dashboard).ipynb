{
 "cells": [
  {
   "cell_type": "code",
   "execution_count": 1,
   "id": "5fc8f760",
   "metadata": {},
   "outputs": [],
   "source": [
    "#1. In the below elements which of them are values or an expression? eg:- values can be\n",
    "#integer or string and expressions will be mathematical operators.\n",
    "#*:expression\n",
    "#'hello': string\n",
    "#-87.8:integer\n",
    "#-:expression\n",
    "#/:expression\n",
    "#+:expression\n",
    "#6:integer"
   ]
  },
  {
   "cell_type": "code",
   "execution_count": null,
   "id": "21c3d9c8",
   "metadata": {},
   "outputs": [],
   "source": [
    "#2. What is the difference between string and variable?\n",
    "#variable is used to store data in programme and string is a data itself which can be stored in variables."
   ]
  },
  {
   "cell_type": "code",
   "execution_count": null,
   "id": "504b49b2",
   "metadata": {},
   "outputs": [],
   "source": [
    "#3. Describe three different data types.\n",
    "#Str data type:\n",
    "#In Python, A string is a sequence of characters enclosed within a single quote or double quote. These characters could be anything like letters, numbers, or special symbols enclosed within double quotation marks. For example, \"ineoron\" is a string.\n",
    "#The string type in Python is represented using a str class.\n",
    "#To work with text or character data in Python, we use Strings. Once a string is created, we can do many operations on it, such as searching inside it, creating a substring from it, and splitting it.\n",
    "\n",
    "#Int data type\n",
    "#Python uses the int data type to represent whole integer values. For example, we can use the int data type to store the roll number of a student. The Integer type in Python is represented using a int class.\n",
    "#You can store positive and negative integer numbers of any length such as 235, -758, 235689741.\n",
    "#We can create an integer variable using the two ways\n",
    "\n",
    "#1.Directly assigning an integer value to a variable\n",
    "#2.Using a int() class.\n",
    "\n",
    "#float data type\n",
    "#To represent floating-point values or decimal values, we can use the float data type. For example, if we want to store the salary, we can use the float type.\n",
    "#The float type in Python is represented using a float class.\n",
    "#We can create a float variable using the two ways\n",
    "\n",
    "#1.Directly assigning a float value to a variable\n",
    "#2.Using a float() class."
   ]
  },
  {
   "cell_type": "code",
   "execution_count": null,
   "id": "cb5f14a4",
   "metadata": {},
   "outputs": [],
   "source": [
    "#4. What is an expression made up of? What do all expressions do?\n",
    "#An expression is made up of operators and operands.That is interpreted to produce some other value.\n",
    "# An expression is evaluated as per the precedence of its operators. \n",
    "# So that if there is more than one operator in an expression, their precedence decides which operation will be performed first."
   ]
  },
  {
   "cell_type": "code",
   "execution_count": null,
   "id": "5264e6f8",
   "metadata": {},
   "outputs": [],
   "source": [
    "#5. This assignment statements, like spam = 10. What is the difference between an\n",
    "#expression and a statement?\n",
    "#An expression is a combination of literals, variable names, operators, and calls to functions. \n",
    "#Expressions need to be evaluated. The result of evaluating an expression is a value or object.\n",
    "#like spam=10 \"spam\" is variable \"=\" is operator and \"10\" is value.\n",
    "#A statement: Statement is a instruction that interpreter can execute"
   ]
  },
  {
   "cell_type": "code",
   "execution_count": 2,
   "id": "532fa7b7",
   "metadata": {},
   "outputs": [
    {
     "data": {
      "text/plain": [
       "23"
      ]
     },
     "execution_count": 2,
     "metadata": {},
     "output_type": "execute_result"
    }
   ],
   "source": [
    "#6. After running the following code, what does the variable bacon contain?\n",
    "bacon = 22\n",
    "bacon + 1"
   ]
  },
  {
   "cell_type": "code",
   "execution_count": 3,
   "id": "19b5e227",
   "metadata": {},
   "outputs": [
    {
     "data": {
      "text/plain": [
       "22"
      ]
     },
     "execution_count": 3,
     "metadata": {},
     "output_type": "execute_result"
    }
   ],
   "source": [
    "bacon"
   ]
  },
  {
   "cell_type": "code",
   "execution_count": 5,
   "id": "4393ebeb",
   "metadata": {},
   "outputs": [
    {
     "data": {
      "text/plain": [
       "'spamspamspam'"
      ]
     },
     "execution_count": 5,
     "metadata": {},
     "output_type": "execute_result"
    }
   ],
   "source": [
    "#7. What should the values of the following two terms be?\n",
    "'spam'+'spamspam'\n"
   ]
  },
  {
   "cell_type": "code",
   "execution_count": 6,
   "id": "6b55becf",
   "metadata": {},
   "outputs": [
    {
     "data": {
      "text/plain": [
       "'spamspamspam'"
      ]
     },
     "execution_count": 6,
     "metadata": {},
     "output_type": "execute_result"
    }
   ],
   "source": [
    "'spam'*3"
   ]
  },
  {
   "cell_type": "code",
   "execution_count": 9,
   "id": "178fc3f3",
   "metadata": {},
   "outputs": [
    {
     "ename": "SyntaxError",
     "evalue": "cannot assign to literal (4118813610.py, line 2)",
     "output_type": "error",
     "traceback": [
      "\u001b[1;36m  Input \u001b[1;32mIn [9]\u001b[1;36m\u001b[0m\n\u001b[1;33m    100=a\u001b[0m\n\u001b[1;37m    ^\u001b[0m\n\u001b[1;31mSyntaxError\u001b[0m\u001b[1;31m:\u001b[0m cannot assign to literal\n"
     ]
    }
   ],
   "source": [
    "#8. Why is eggs a valid variable name while 100 is invalid?\n",
    "100=a"
   ]
  },
  {
   "cell_type": "code",
   "execution_count": null,
   "id": "437add8c",
   "metadata": {},
   "outputs": [],
   "source": [
    "#it is because variable can not be starts with number."
   ]
  },
  {
   "cell_type": "code",
   "execution_count": null,
   "id": "10ec970f",
   "metadata": {},
   "outputs": [],
   "source": [
    "#9. What three functions can be used to get the integer, floating-point number, or string\n",
    "#version of a value?\n",
    "#1.int()\n",
    "#2.float()\n",
    "#3.str()"
   ]
  },
  {
   "cell_type": "code",
   "execution_count": 7,
   "id": "d7f854e5",
   "metadata": {},
   "outputs": [
    {
     "ename": "TypeError",
     "evalue": "can only concatenate str (not \"int\") to str",
     "output_type": "error",
     "traceback": [
      "\u001b[1;31m---------------------------------------------------------------------------\u001b[0m",
      "\u001b[1;31mTypeError\u001b[0m                                 Traceback (most recent call last)",
      "Input \u001b[1;32mIn [7]\u001b[0m, in \u001b[0;36m<cell line: 2>\u001b[1;34m()\u001b[0m\n\u001b[0;32m      1\u001b[0m \u001b[38;5;66;03m#10. Why does this expression cause an error? How can you fix it?\u001b[39;00m\n\u001b[1;32m----> 2\u001b[0m \u001b[38;5;124;43m'\u001b[39;49m\u001b[38;5;124;43mI have eaten\u001b[39;49m\u001b[38;5;124;43m'\u001b[39;49m\u001b[43m \u001b[49m\u001b[38;5;241;43m+\u001b[39;49m\u001b[43m \u001b[49m\u001b[38;5;241;43m99\u001b[39;49m \u001b[38;5;241m+\u001b[39m \u001b[38;5;124m'\u001b[39m\u001b[38;5;124mburritos\u001b[39m\u001b[38;5;124m'\u001b[39m\n",
      "\u001b[1;31mTypeError\u001b[0m: can only concatenate str (not \"int\") to str"
     ]
    }
   ],
   "source": [
    "#10. Why does this expression cause an error? How can you fix it?\n",
    "'I have eaten' + 99 + 'burritos'"
   ]
  },
  {
   "cell_type": "code",
   "execution_count": null,
   "id": "d4324bb6",
   "metadata": {},
   "outputs": [],
   "source": [
    "# As clearily mentioned in error that 99 is ineger not a string so for concatenate datatype should be same."
   ]
  },
  {
   "cell_type": "code",
   "execution_count": null,
   "id": "39f85fc0",
   "metadata": {},
   "outputs": [],
   "source": []
  }
 ],
 "metadata": {
  "kernelspec": {
   "display_name": "Python 3 (ipykernel)",
   "language": "python",
   "name": "python3"
  },
  "language_info": {
   "codemirror_mode": {
    "name": "ipython",
    "version": 3
   },
   "file_extension": ".py",
   "mimetype": "text/x-python",
   "name": "python",
   "nbconvert_exporter": "python",
   "pygments_lexer": "ipython3",
   "version": "3.9.0"
  }
 },
 "nbformat": 4,
 "nbformat_minor": 5
}
